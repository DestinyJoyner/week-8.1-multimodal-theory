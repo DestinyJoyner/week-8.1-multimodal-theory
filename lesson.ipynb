{
 "cells": [
  {
   "cell_type": "markdown",
   "metadata": {},
   "source": [
    "# Lesson 8.1: Multimodal Vision\n",
    "\n",
    "## <ins>Setup</ins>  \n",
    "\n",
    "**Reminder:** Remember to `setup` and `activate` your virtual environment, choose your python interpreter and install the ipykernel. If you do not remember how please refer to the [Python Workspace Setup Instructions](https://github.com/jdrichards-pursuit/python-virtual-environment-setup).\n",
    "\n",
    "### 1. Retrieving Your API Key\n",
    "\n",
    "Before we begin, you will need to retrieve your API key either from where you've stored it or from the Gemini site.\n",
    "\n",
    "Use the following set of instructions to sign up for an account and retrieve your API key if you do not have one.\n",
    "\n",
    "[Gemini API Key](https://github.com/jdrichards-pursuit/gemini-api-key-acquire?tab=readme-ov-file)\n",
    "\n",
    "### 2. Setting Up Your Environment Variables\n",
    "\n",
    "Now that you have your API key, you can set up your environment variables.\n",
    "\n",
    "Create a new file called `.env` and add the following line of code:\n",
    "\n",
    "```bash\n",
    "API_KEY=<your-api-key>\n",
    "```\n",
    "### 3. Installing Required Libraries\n",
    "\n",
    "Another efficient way to install the required libraries is to place them in your `requirements.txt` file.\n",
    "\n",
    "Here is a list of libraries you will need to install:\n",
    "\n",
    "1. python-dotenv\n",
    "2. requests\n",
    "\n",
    "Place these libraries in your `requirements.txt` file.\n",
    "\n",
    "Once you have added the libraries to your `requirements.txt` file, you can install them by running the following command:\n",
    "\n",
    "```bash\n",
    "pip install -r requirements.txt\n",
    "```\n",
    "\n",
    "The `-r` flag is used to read the requirements from the `requirements.txt` file and install the libraries.\n",
    "\n",
    "\n",
    "### Importing Libraries\n"
   ]
  },
  {
   "cell_type": "code",
   "execution_count": null,
   "metadata": {},
   "outputs": [],
   "source": []
  }
 ],
 "metadata": {
  "language_info": {
   "name": "python"
  }
 },
 "nbformat": 4,
 "nbformat_minor": 2
}
